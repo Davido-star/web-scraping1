{
  "nbformat": 4,
  "nbformat_minor": 0,
  "metadata": {
    "colab": {
      "name": "Webscrape_image.ipynb",
      "provenance": [],
      "authorship_tag": "ABX9TyOcG7QY0p0tKzDwdWrqbzJc",
      "include_colab_link": true
    },
    "kernelspec": {
      "name": "python3",
      "display_name": "Python 3"
    }
  },
  "cells": [
    {
      "cell_type": "markdown",
      "metadata": {
        "id": "view-in-github",
        "colab_type": "text"
      },
      "source": [
        "<a href=\"https://colab.research.google.com/github/Davido-star/web-scraping1/blob/main/Webscrape_image.ipynb\" target=\"_parent\"><img src=\"https://colab.research.google.com/assets/colab-badge.svg\" alt=\"Open In Colab\"/></a>"
      ]
    },
    {
      "cell_type": "markdown",
      "metadata": {
        "id": "GmNT8pNDH-I_"
      },
      "source": [
        "#David Smith#\n",
        "Web scraping an image from Wikipedia.   \n",
        "IDCE 302 -01 - S21.  \n"
      ]
    },
    {
      "cell_type": "code",
      "metadata": {
        "colab": {
          "base_uri": "https://localhost:8080/",
          "height": 17
        },
        "id": "HYe_NIvgrqgm",
        "outputId": "1833e41d-02da-4c49-de0d-ec0c29d7d23f"
      },
      "source": [
        "#import request and bs4\n",
        "import requests\n",
        "import bs4\n",
        "\n",
        "# new request \n",
        "image_link = requests.get(\"https://upload.wikimedia.org/wikipedia/commons/thumb/7/78/Spb_06-2017_img01_Spit_of_Vasilievsky_Island.jpg/1280px-Spb_06-2017_img01_Spit_of_Vasilievsky_Island.jpg/\")\n",
        "\n",
        "# show the image link using a \"content\" attribute.\n",
        "image_link.content\n",
        "\n",
        "# Create a new file name (add .jpg or whatever matches the ned of your URL) to which we will write the file\n",
        "# I'm using the variable \"f\" for \"file\"\n",
        "f = open('my_pete_image1.jpg','wb') # wb denotes \"write binary\"\n",
        "\n",
        "# now we'll write all that binary content to the file. This should return some integer\n",
        "f.write(image_link.content)\n",
        "\n",
        "# now we close the file.\n",
        "f.close()\n",
        "\n",
        "#download the files \n",
        "from google.colab import files\n",
        "files.download('my_pete_image1.jpg')\n",
        "\n"
      ],
      "execution_count": 5,
      "outputs": [
        {
          "output_type": "display_data",
          "data": {
            "application/javascript": [
              "\n",
              "    async function download(id, filename, size) {\n",
              "      if (!google.colab.kernel.accessAllowed) {\n",
              "        return;\n",
              "      }\n",
              "      const div = document.createElement('div');\n",
              "      const label = document.createElement('label');\n",
              "      label.textContent = `Downloading \"${filename}\": `;\n",
              "      div.appendChild(label);\n",
              "      const progress = document.createElement('progress');\n",
              "      progress.max = size;\n",
              "      div.appendChild(progress);\n",
              "      document.body.appendChild(div);\n",
              "\n",
              "      const buffers = [];\n",
              "      let downloaded = 0;\n",
              "\n",
              "      const channel = await google.colab.kernel.comms.open(id);\n",
              "      // Send a message to notify the kernel that we're ready.\n",
              "      channel.send({})\n",
              "\n",
              "      for await (const message of channel.messages) {\n",
              "        // Send a message to notify the kernel that we're ready.\n",
              "        channel.send({})\n",
              "        if (message.buffers) {\n",
              "          for (const buffer of message.buffers) {\n",
              "            buffers.push(buffer);\n",
              "            downloaded += buffer.byteLength;\n",
              "            progress.value = downloaded;\n",
              "          }\n",
              "        }\n",
              "      }\n",
              "      const blob = new Blob(buffers, {type: 'application/binary'});\n",
              "      const a = document.createElement('a');\n",
              "      a.href = window.URL.createObjectURL(blob);\n",
              "      a.download = filename;\n",
              "      div.appendChild(a);\n",
              "      a.click();\n",
              "      div.remove();\n",
              "    }\n",
              "  "
            ],
            "text/plain": [
              "<IPython.core.display.Javascript object>"
            ]
          },
          "metadata": {
            "tags": []
          }
        },
        {
          "output_type": "display_data",
          "data": {
            "application/javascript": [
              "download(\"download_338f1849-18b2-4d88-b589-260624ff4700\", \"my_pete_image1.jpg\", 1814)"
            ],
            "text/plain": [
              "<IPython.core.display.Javascript object>"
            ]
          },
          "metadata": {
            "tags": []
          }
        }
      ]
    }
  ]
}